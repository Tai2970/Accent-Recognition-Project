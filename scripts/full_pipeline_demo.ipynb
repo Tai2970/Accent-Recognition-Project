{
  "nbformat": 4,
  "nbformat_minor": 0,
  "metadata": {
    "colab": {
      "provenance": [],
      "authorship_tag": "ABX9TyMfY3LNUHfbZJVzYpMuGOxy",
      "include_colab_link": true
    },
    "kernelspec": {
      "name": "python3",
      "display_name": "Python 3"
    },
    "language_info": {
      "name": "python"
    }
  },
  "cells": [
    {
      "cell_type": "markdown",
      "metadata": {
        "id": "view-in-github",
        "colab_type": "text"
      },
      "source": [
        "<a href=\"https://colab.research.google.com/github/Tai2970/Accent-Recognition-Project/blob/main/scripts/full_pipeline_demo.ipynb\" target=\"_parent\"><img src=\"https://colab.research.google.com/assets/colab-badge.svg\" alt=\"Open In Colab\"/></a>"
      ]
    },
    {
      "cell_type": "code",
      "execution_count": null,
      "metadata": {
        "id": "LwuwL9jHwRCl"
      },
      "outputs": [],
      "source": [
        "!pip install librosa scikit-learn pandas numpy soundfile"
      ]
    },
    {
      "cell_type": "code",
      "source": [
        "from google.colab import files\n",
        "import os, shutil\n",
        "\n",
        "# STEP 1: Upload model\n",
        "uploaded = files.upload()  # Upload final_model.pkl or any renamed version\n",
        "\n",
        "# STEP 2: Ensure 'models' directory exists\n",
        "os.makedirs(\"models\", exist_ok=True)\n",
        "\n",
        "# STEP 3: Rename whatever got uploaded to 'final_model.pkl'\n",
        "for filename in uploaded:\n",
        "    new_path = os.path.join(\"models\", \"final_model.pkl\")\n",
        "    shutil.move(filename, new_path)\n",
        "    print(f\"Saved model as: {new_path}\")"
      ],
      "metadata": {
        "id": "gFCghPKmwXUo"
      },
      "execution_count": null,
      "outputs": []
    },
    {
      "cell_type": "code",
      "source": [
        "# STEP 1: Delete any existing test_samples folder to avoid duplicates\n",
        "import shutil\n",
        "shutil.rmtree(\"data/test_samples\", ignore_errors=True)\n",
        "\n",
        "# STEP 2: Recreate the folder clean\n",
        "os.makedirs(\"data/test_samples\", exist_ok=True)\n",
        "\n",
        "# STEP 3: Upload your new .wav files for prediction\n",
        "from google.colab import files\n",
        "uploaded = files.upload()\n",
        "\n",
        "# STEP 4: Move uploaded .wav files to the 'test_samples' folder\n",
        "for filename in uploaded:\n",
        "    if filename.endswith(\".wav\"):\n",
        "        shutil.move(filename, f\"data/test_samples/{filename}\")"
      ],
      "metadata": {
        "id": "WQoBepw-wbVd"
      },
      "execution_count": null,
      "outputs": []
    },
    {
      "cell_type": "code",
      "source": [
        "import os\n",
        "import librosa\n",
        "import numpy as np\n",
        "import joblib\n",
        "import pandas as pd\n",
        "import warnings\n",
        "warnings.filterwarnings(\"ignore\")\n",
        "\n",
        "# Load trained final model\n",
        "model = joblib.load(\"models/final_model.pkl\")\n",
        "\n",
        "# Folder with test .wav files\n",
        "test_folder = \"data/test_samples/\"\n",
        "accent_labels = {0: \"American\", 1: \"British\", 2: \"Vietnamese\"}\n",
        "\n",
        "# Feature extraction: MFCCs, delta MFCCs, spectral contrast\n",
        "def extract_features(file_path):\n",
        "    y, sr = librosa.load(file_path, sr=16000)\n",
        "    mfccs = librosa.feature.mfcc(y=y, sr=sr, n_mfcc=13)\n",
        "    delta_mfccs = librosa.feature.delta(mfccs)\n",
        "    contrast = librosa.feature.spectral_contrast(y=y, sr=sr)\n",
        "\n",
        "    return np.hstack((\n",
        "        mfccs.mean(axis=1),\n",
        "        delta_mfccs.mean(axis=1),\n",
        "        contrast.mean(axis=1)\n",
        "    ))\n",
        "\n",
        "# Run prediction on each .wav file\n",
        "print(\"Accent Predictions:\")\n",
        "print(\"-\" * 40)\n",
        "\n",
        "for filename in sorted(os.listdir(test_folder)):\n",
        "    if filename.endswith(\".wav\"):\n",
        "        file_path = os.path.join(test_folder, filename)\n",
        "        try:\n",
        "            features = extract_features(file_path).reshape(1, -1)\n",
        "            prediction = model.predict(features)[0]\n",
        "            label = accent_labels[prediction]\n",
        "            print(f\"{filename} ➜ Predicted Accent: {label}\")\n",
        "        except Exception as e:\n",
        "            print(f\"{filename} ➜ Error: {e}\")"
      ],
      "metadata": {
        "id": "spdNO5BJwfAM"
      },
      "execution_count": null,
      "outputs": []
    }
  ]
}