{
  "nbformat": 4,
  "nbformat_minor": 0,
  "metadata": {
    "colab": {
      "provenance": [],
      "authorship_tag": "ABX9TyODd8mJUaCRjLIjIb448C2D",
      "include_colab_link": true
    },
    "kernelspec": {
      "name": "python3",
      "display_name": "Python 3"
    },
    "language_info": {
      "name": "python"
    }
  },
  "cells": [
    {
      "cell_type": "markdown",
      "metadata": {
        "id": "view-in-github",
        "colab_type": "text"
      },
      "source": [
        "<a href=\"https://colab.research.google.com/github/Tai2970/Accent-Recognition-Project/blob/main/scripts/full_pipeline_demo.ipynb\" target=\"_parent\"><img src=\"https://colab.research.google.com/assets/colab-badge.svg\" alt=\"Open In Colab\"/></a>"
      ]
    },
    {
      "cell_type": "code",
      "execution_count": null,
      "metadata": {
        "id": "LwuwL9jHwRCl"
      },
      "outputs": [],
      "source": [
        "!pip install librosa scikit-learn pandas numpy soundfile\n",
        "!pip install praat-parselmouth --quiet"
      ]
    },
    {
      "cell_type": "code",
      "source": [
        "from google.colab import files\n",
        "import os, shutil\n",
        "\n",
        "# STEP 1: Upload model\n",
        "uploaded = files.upload()  # Upload final_model.pkl or any renamed version\n",
        "\n",
        "# STEP 2: Ensure 'models' directory exists\n",
        "os.makedirs(\"models\", exist_ok=True)\n",
        "\n",
        "# STEP 3: Rename whatever got uploaded to 'final_model.pkl'\n",
        "for filename in uploaded:\n",
        "    new_path = os.path.join(\"models\", \"final_model.pkl\")\n",
        "    shutil.move(filename, new_path)\n",
        "    print(f\"Saved model as: {new_path}\")"
      ],
      "metadata": {
        "id": "gFCghPKmwXUo"
      },
      "execution_count": null,
      "outputs": []
    },
    {
      "cell_type": "code",
      "source": [
        "# STEP 1: Delete any existing test_samples folder to avoid duplicates\n",
        "import shutil\n",
        "shutil.rmtree(\"data/test_samples\", ignore_errors=True)\n",
        "\n",
        "# STEP 2: Recreate the folder clean\n",
        "os.makedirs(\"data/test_samples\", exist_ok=True)\n",
        "\n",
        "# STEP 3: Upload your new .wav files for prediction\n",
        "from google.colab import files\n",
        "uploaded = files.upload()\n",
        "\n",
        "# STEP 4: Move uploaded .wav files to the 'test_samples' folder\n",
        "for filename in uploaded:\n",
        "    if filename.endswith(\".wav\"):\n",
        "        shutil.move(filename, f\"data/test_samples/{filename}\")"
      ],
      "metadata": {
        "id": "WQoBepw-wbVd"
      },
      "execution_count": null,
      "outputs": []
    },
    {
      "cell_type": "code",
      "source": [
        "# Main prediction logic\n",
        "\n",
        "import librosa\n",
        "import numpy as np\n",
        "import joblib\n",
        "import pandas as pd\n",
        "import parselmouth\n",
        "import warnings\n",
        "import time  # NEW: for timing inference\n",
        "warnings.filterwarnings(\"ignore\")\n",
        "\n",
        "# Load trained model\n",
        "model = joblib.load(\"models/final_model.pkl\")\n",
        "\n",
        "# Folder for test files\n",
        "test_folder = \"data/test_samples/\"\n",
        "accent_labels = {0: \"American\", 1: \"British\", 2: \"Vietnamese\"}\n",
        "\n",
        "# Feature extraction: MFCCs, delta MFCCs, spectral contrast, pitch, formants\n",
        "def extract_features(file_path):\n",
        "    y, sr = librosa.load(file_path, sr=16000)\n",
        "\n",
        "    mfccs = librosa.feature.mfcc(y=y, sr=sr, n_mfcc=13)\n",
        "    delta_mfccs = librosa.feature.delta(mfccs)\n",
        "    contrast = librosa.feature.spectral_contrast(y=y, sr=sr)\n",
        "\n",
        "    snd = parselmouth.Sound(file_path)\n",
        "    pitch = snd.to_pitch()\n",
        "    pitch_values = pitch.selected_array['frequency']\n",
        "    pitch_values = pitch_values[pitch_values > 0]\n",
        "    pitch_mean = np.mean(pitch_values) if len(pitch_values) > 0 else 0\n",
        "\n",
        "    formant = snd.to_formant_burg()\n",
        "    num_frames = formant.get_number_of_frames()\n",
        "    f1, f2, f3 = [], [], []\n",
        "    for i in range(num_frames):\n",
        "        t = formant.get_time_from_frame_number(i + 1)\n",
        "        f1.append(formant.get_value_at_time(1, t) or 0)\n",
        "        f2.append(formant.get_value_at_time(2, t) or 0)\n",
        "        f3.append(formant.get_value_at_time(3, t) or 0)\n",
        "\n",
        "    formant_means = [\n",
        "        np.mean([v for v in f1 if v > 0]) if f1 else 0,\n",
        "        np.mean([v for v in f2 if v > 0]) if f2 else 0,\n",
        "        np.mean([v for v in f3 if v > 0]) if f3 else 0\n",
        "    ]\n",
        "\n",
        "    return np.hstack((\n",
        "        mfccs.mean(axis=1),\n",
        "        delta_mfccs.mean(axis=1),\n",
        "        contrast.mean(axis=1),\n",
        "        [pitch_mean],\n",
        "        formant_means\n",
        "    ))\n",
        "\n",
        "# Predict and display results with inference time\n",
        "print(\"Accent Predictions:\")\n",
        "print(\"-\" * 40)\n",
        "\n",
        "for filename in sorted(os.listdir(test_folder)):\n",
        "    if filename.endswith(\".wav\"):\n",
        "        file_path = os.path.join(test_folder, filename)\n",
        "        try:\n",
        "            features = extract_features(file_path).reshape(1, -1)\n",
        "\n",
        "            # ⏱ Start timer\n",
        "            start_time = time.time()\n",
        "\n",
        "            prediction = model.predict(features)[0]\n",
        "\n",
        "            # ⏱ End timer\n",
        "            inference_time = time.time() - start_time\n",
        "\n",
        "            label = accent_labels[prediction]\n",
        "            print(f\"{filename} ➜ Predicted Accent: {label} (Time: {inference_time:.4f} sec)\")\n",
        "        except Exception as e:\n",
        "            print(f\"{filename} ➜ Error: {e}\")"
      ],
      "metadata": {
        "id": "spdNO5BJwfAM"
      },
      "execution_count": null,
      "outputs": []
    },
    {
      "cell_type": "code",
      "source": [
        "# OPTIONAL: Visualize the features of the last test file\n",
        "import matplotlib.pyplot as plt\n",
        "\n",
        "# Reuse the last file processed in the loop\n",
        "file_to_plot = file_path  # from the previous loop\n",
        "features = extract_features(file_to_plot)\n",
        "\n",
        "plt.figure(figsize=(12, 4))\n",
        "plt.bar(range(len(features)), features)\n",
        "plt.title(f\"Feature Vector for: {os.path.basename(file_to_plot)}\")\n",
        "plt.xlabel(\"Feature Index\")\n",
        "plt.ylabel(\"Value\")\n",
        "plt.grid(True)\n",
        "plt.show()"
      ],
      "metadata": {
        "id": "orJMNnGxNC8M"
      },
      "execution_count": null,
      "outputs": []
    }
  ]
}