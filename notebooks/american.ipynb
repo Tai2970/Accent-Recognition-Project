{
  "nbformat": 4,
  "nbformat_minor": 0,
  "metadata": {
    "colab": {
      "provenance": []
    },
    "kernelspec": {
      "name": "python3",
      "display_name": "Python 3"
    },
    "language_info": {
      "name": "python"
    }
  },
  "cells": [
    {
      "cell_type": "markdown",
      "source": [
        "**Task 2**"
      ],
      "metadata": {
        "id": "LSBKlLU6RqfN"
      }
    },
    {
      "cell_type": "code",
      "execution_count": null,
      "metadata": {
        "colab": {
          "base_uri": "https://localhost:8080/"
        },
        "id": "RGa8ZgOmGnsT",
        "outputId": "78848237-14bd-4337-af67-5253024d016f"
      },
      "outputs": [
        {
          "output_type": "stream",
          "name": "stdout",
          "text": [
            "Cloning into 'Accent-Recognition-Project'...\n",
            "remote: Enumerating objects: 370, done.\u001b[K\n",
            "remote: Counting objects: 100% (84/84), done.\u001b[K\n",
            "remote: Compressing objects: 100% (74/74), done.\u001b[K\n",
            "remote: Total 370 (delta 57), reused 10 (delta 10), pack-reused 286 (from 3)\u001b[K\n",
            "Receiving objects: 100% (370/370), 3.81 MiB | 8.10 MiB/s, done.\n",
            "Resolving deltas: 100% (170/170), done.\n",
            "/content/Accent-Recognition-Project\n"
          ]
        }
      ],
      "source": [
        "!git clone https://github.com/Tai2970/Accent-Recognition-Project.git\n",
        "%cd Accent-Recognition-Project"
      ]
    },
    {
      "cell_type": "code",
      "source": [
        "import os\n",
        "print(os.listdir(\"data/american/\"))"
      ],
      "metadata": {
        "colab": {
          "base_uri": "https://localhost:8080/"
        },
        "id": "8dA0fY0eGoq4",
        "outputId": "4d376d28-25fd-43cc-e9a8-eea068e4c84e"
      },
      "execution_count": null,
      "outputs": [
        {
          "output_type": "stream",
          "name": "stdout",
          "text": [
            "['common_voice_en_41503591.wav', 'common_voice_en_41816931.wav', 'common_voice_en_41823983.wav', 'common_voice_en_41526838.wav', 'common_voice_en_41680077.wav', 'common_voice_en_41693119.wav', 'common_voice_en_41678018.wav', 'README.md', 'common_voice_en_41633128.wav', 'common_voice_en_41586424.wav', 'common_voice_en_41881685.wav']\n"
          ]
        }
      ]
    },
    {
      "cell_type": "code",
      "source": [
        "import librosa\n",
        "import soundfile as sf\n",
        "\n",
        "# Define file path\n",
        "file_path = \"data/american/common_voice_en_41633128.wav\"\n",
        "\n",
        "# Load the audio\n",
        "y, sr = librosa.load(file_path, sr=None)  # Keep original sample rate\n",
        "\n",
        "# Convert to 16kHz & Mono\n",
        "target_sample_rate = 16000\n",
        "y_resampled = librosa.resample(y, orig_sr=sr, target_sr=target_sample_rate)\n",
        "\n",
        "# Save the converted file\n",
        "sf.write(\"data/american/processed_common_voice_en_41633128.wav\", y_resampled, target_sample_rate)\n",
        "\n",
        "print(\"✅ Audio converted to 16kHz and saved successfully!\")"
      ],
      "metadata": {
        "colab": {
          "base_uri": "https://localhost:8080/"
        },
        "id": "ZymgEUkUGsU1",
        "outputId": "b0c2b136-d295-4640-b9ce-0998384899ce"
      },
      "execution_count": null,
      "outputs": [
        {
          "output_type": "stream",
          "name": "stdout",
          "text": [
            "✅ Audio converted to 16kHz and saved successfully!\n"
          ]
        }
      ]
    },
    {
      "cell_type": "code",
      "source": [
        "import librosa\n",
        "import soundfile as sf\n",
        "import os\n",
        "\n",
        "# Define paths\n",
        "input_folder = \"data/american/\"\n",
        "output_folder = \"data/american/processed/\"\n",
        "\n",
        "# Create output folder if it doesn't exist\n",
        "os.makedirs(output_folder, exist_ok=True)\n",
        "\n",
        "# Target sample rate\n",
        "target_sample_rate = 16000\n",
        "\n",
        "# Process all .wav files\n",
        "for filename in os.listdir(input_folder):\n",
        "    if filename.endswith(\".wav\") and not filename.startswith(\"processed_\"):  # Skip processed files\n",
        "        file_path = os.path.join(input_folder, filename)\n",
        "\n",
        "        # Load the audio\n",
        "        y, sr = librosa.load(file_path, sr=None)  # Keep original sample rate\n",
        "\n",
        "        # Convert to 16kHz\n",
        "        y_resampled = librosa.resample(y, orig_sr=sr, target_sr=target_sample_rate)\n",
        "\n",
        "        # Save the converted file\n",
        "        output_file_path = os.path.join(output_folder, f\"processed_{filename}\")  # Add \"processed_\" to filename\n",
        "        sf.write(output_file_path, y_resampled, target_sample_rate)\n",
        "\n",
        "        print(f\"✅ Processed: {filename}\")\n",
        "\n",
        "print(\"🎉 All files have been converted to 16kHz and saved in 'processed/' folder!\")"
      ],
      "metadata": {
        "colab": {
          "base_uri": "https://localhost:8080/"
        },
        "id": "0TxBzwgsGuq2",
        "outputId": "b3a3d434-6ed0-4d9c-92a1-b7bb519a9635"
      },
      "execution_count": null,
      "outputs": [
        {
          "output_type": "stream",
          "name": "stdout",
          "text": [
            "✅ Processed: common_voice_en_41503591.wav\n",
            "✅ Processed: common_voice_en_41816931.wav\n",
            "✅ Processed: common_voice_en_41823983.wav\n",
            "✅ Processed: common_voice_en_41526838.wav\n",
            "✅ Processed: common_voice_en_41680077.wav\n",
            "✅ Processed: common_voice_en_41693119.wav\n",
            "✅ Processed: common_voice_en_41678018.wav\n",
            "✅ Processed: common_voice_en_41633128.wav\n",
            "✅ Processed: common_voice_en_41586424.wav\n",
            "✅ Processed: common_voice_en_41881685.wav\n",
            "🎉 All files have been converted to 16kHz and saved in 'processed/' folder!\n"
          ]
        }
      ]
    },
    {
      "cell_type": "code",
      "source": [
        "import os\n",
        "print(os.listdir(\"data/american/processed/\"))"
      ],
      "metadata": {
        "colab": {
          "base_uri": "https://localhost:8080/"
        },
        "id": "vDTdLJb9HD_f",
        "outputId": "e5e30f3f-af83-421b-c417-9637e36bcefc"
      },
      "execution_count": null,
      "outputs": [
        {
          "output_type": "stream",
          "name": "stdout",
          "text": [
            "['common_voice_en_41503591.wav', 'common_voice_en_41816931.wav', 'processed_common_voice_en_41816931.wav', 'processed_common_voice_en_41881685.wav', 'common_voice_en_41823983.wav', 'common_voice_en_41526838.wav', 'processed_common_voice_en_41633128.wav', 'common_voice_en_41680077.wav', 'common_voice_en_41693119.wav', 'common_voice_en_41678018.wav', 'processed_common_voice_en_41678018.wav', 'processed_common_voice_en_41526838.wav', 'processed_common_voice_en_41823983.wav', 'common_voice_en_41633128.wav', 'processed_common_voice_en_41503591.wav', 'processed_common_voice_en_41586424.wav', 'processed_common_voice_en_41693119.wav', 'common_voice_en_41586424.wav', 'common_voice_en_41881685.wav', 'processed_common_voice_en_41680077.wav']\n"
          ]
        }
      ]
    },
    {
      "cell_type": "markdown",
      "source": [
        "**Task 3**"
      ],
      "metadata": {
        "id": "EkHhGFF1RwdE"
      }
    },
    {
      "cell_type": "code",
      "source": [
        "import librosa\n",
        "import librosa.display\n",
        "import matplotlib.pyplot as plt\n",
        "import numpy as np\n",
        "\n",
        "# Load a processed audio file\n",
        "file_path = \"data/american/processed/common_voice_en_41503591.wav\"  # Change file name if needed\n",
        "y, sr = librosa.load(file_path, sr=16000)  # Load audio at 16kHz\n",
        "\n",
        "# Extract MFCC features\n",
        "mfccs = librosa.feature.mfcc(y=y, sr=sr, n_mfcc=13)  # Extract 13 MFCCs\n",
        "\n",
        "# Print MFCC shape\n",
        "print(f\"MFCCs Shape: {mfccs.shape}\")\n",
        "\n",
        "# Plot MFCCs\n",
        "plt.figure(figsize=(10, 4))\n",
        "librosa.display.specshow(mfccs, x_axis=\"time\", sr=sr)\n",
        "plt.colorbar(label=\"MFCC Coefficients\")\n",
        "plt.title(\"MFCCs of Speech Sample\")\n",
        "plt.xlabel(\"Time (s)\")\n",
        "plt.ylabel(\"MFCC Coefficients\")\n",
        "plt.show()"
      ],
      "metadata": {
        "colab": {
          "base_uri": "https://localhost:8080/",
          "height": 427
        },
        "id": "D2erOi9_Hot4",
        "outputId": "8950abde-1b3c-4716-e84e-a51eeb69c5ba"
      },
      "execution_count": null,
      "outputs": [
        {
          "output_type": "stream",
          "name": "stdout",
          "text": [
            "MFCCs Shape: (13, 256)\n"
          ]
        },
        {
          "output_type": "display_data",
          "data": {
            "text/plain": [
              "<Figure size 1000x400 with 2 Axes>"
            ],
            "image/png": "[encoded data removed]"
          },
          "metadata": {}
        }
      ]
    },
    {
      "cell_type": "code",
      "source": [
        "import os\n",
        "import numpy as np\n",
        "import librosa\n",
        "\n",
        "# Define paths\n",
        "input_folder = \"data/american/processed/\"\n",
        "output_folder = \"data/american/mfcc_features/\"\n",
        "\n",
        "# Create output folder if it doesn't exist\n",
        "os.makedirs(output_folder, exist_ok=True)\n",
        "\n",
        "# Process all .wav files\n",
        "for filename in os.listdir(input_folder):\n",
        "    if filename.endswith(\".wav\"):\n",
        "        file_path = os.path.join(input_folder, filename)\n",
        "\n",
        "        # Load audio\n",
        "        y, sr = librosa.load(file_path, sr=16000)\n",
        "\n",
        "        # Extract MFCCs\n",
        "        mfccs = librosa.feature.mfcc(y=y, sr=sr, n_mfcc=13)\n",
        "\n",
        "        # Save MFCCs as .npy (numpy array format)\n",
        "        np.save(os.path.join(output_folder, filename.replace(\".wav\", \".npy\")), mfccs)\n",
        "\n",
        "        print(f\"✅ Extracted MFCCs: {filename}\")\n",
        "\n",
        "print(\"🎉 All MFCC features have been extracted and saved in 'mfcc_features/' folder!\")"
      ],
      "metadata": {
        "colab": {
          "base_uri": "https://localhost:8080/"
        },
        "id": "tZz_XsBLKT1H",
        "outputId": "21bf3208-8a1a-45c3-9d5b-4f670d701d6d"
      },
      "execution_count": null,
      "outputs": [
        {
          "output_type": "stream",
          "name": "stdout",
          "text": [
            "✅ Extracted MFCCs: common_voice_en_41503591.wav\n",
            "✅ Extracted MFCCs: common_voice_en_41816931.wav\n",
            "✅ Extracted MFCCs: processed_common_voice_en_41816931.wav\n",
            "✅ Extracted MFCCs: processed_common_voice_en_41881685.wav\n",
            "✅ Extracted MFCCs: common_voice_en_41823983.wav\n",
            "✅ Extracted MFCCs: common_voice_en_41526838.wav\n",
            "✅ Extracted MFCCs: processed_common_voice_en_41633128.wav\n",
            "✅ Extracted MFCCs: common_voice_en_41680077.wav\n",
            "✅ Extracted MFCCs: common_voice_en_41693119.wav\n",
            "✅ Extracted MFCCs: common_voice_en_41678018.wav\n",
            "✅ Extracted MFCCs: processed_common_voice_en_41678018.wav\n",
            "✅ Extracted MFCCs: processed_common_voice_en_41526838.wav\n",
            "✅ Extracted MFCCs: processed_common_voice_en_41823983.wav\n",
            "✅ Extracted MFCCs: common_voice_en_41633128.wav\n",
            "✅ Extracted MFCCs: processed_common_voice_en_41503591.wav\n",
            "✅ Extracted MFCCs: processed_common_voice_en_41586424.wav\n",
            "✅ Extracted MFCCs: processed_common_voice_en_41693119.wav\n",
            "✅ Extracted MFCCs: common_voice_en_41586424.wav\n",
            "✅ Extracted MFCCs: common_voice_en_41881685.wav\n",
            "✅ Extracted MFCCs: processed_common_voice_en_41680077.wav\n",
            "🎉 All MFCC features have been extracted and saved in 'mfcc_features/' folder!\n"
          ]
        }
      ]
    },
    {
      "cell_type": "code",
      "source": [
        "import os\n",
        "print(os.listdir(\"data/american/mfcc_features/\"))"
      ],
      "metadata": {
        "colab": {
          "base_uri": "https://localhost:8080/"
        },
        "id": "NLtrEFanKlCp",
        "outputId": "47a33c19-312b-4643-bcea-0f5794ed7acd"
      },
      "execution_count": null,
      "outputs": [
        {
          "output_type": "stream",
          "name": "stdout",
          "text": [
            "['common_voice_en_41823983.npy', 'processed_common_voice_en_41881685.npy', 'common_voice_en_41633128.npy', 'common_voice_en_41881685.npy', 'processed_common_voice_en_41633128.npy', 'processed_common_voice_en_41586424.npy', 'common_voice_en_41503591.npy', 'processed_common_voice_en_41678018.npy', 'common_voice_en_41693119.npy', 'common_voice_en_41680077.npy', 'common_voice_en_41526838.npy', 'processed_common_voice_en_41503591.npy', 'processed_common_voice_en_41680077.npy', 'common_voice_en_41816931.npy', 'processed_common_voice_en_41816931.npy', 'processed_common_voice_en_41526838.npy', 'common_voice_en_41678018.npy', 'common_voice_en_41586424.npy', 'processed_common_voice_en_41693119.npy', 'processed_common_voice_en_41823983.npy']\n"
          ]
        }
      ]
    },
    {
      "cell_type": "code",
      "source": [
        "import os\n",
        "\n",
        "# Define the path to the MFCC folder\n",
        "mfcc_folder = \"data/american/mfcc_features/\"\n",
        "\n",
        "# Loop through all files and remove non-processed ones\n",
        "for filename in os.listdir(mfcc_folder):\n",
        "    if filename.startswith(\"common_voice_en_\") and filename.endswith(\".npy\"):  # Unprocessed files\n",
        "        file_path = os.path.join(mfcc_folder, filename)\n",
        "        os.remove(file_path)  # Delete file\n",
        "        print(f\"🗑 Deleted: {filename}\")\n",
        "\n",
        "print(\"✅ Cleanup complete! Only processed files remain.\")"
      ],
      "metadata": {
        "colab": {
          "base_uri": "https://localhost:8080/"
        },
        "id": "HUVEy6rQK0cl",
        "outputId": "385dd179-9a21-458a-b1e1-c6ad687ff5c0"
      },
      "execution_count": null,
      "outputs": [
        {
          "output_type": "stream",
          "name": "stdout",
          "text": [
            "🗑 Deleted: common_voice_en_41823983.npy\n",
            "🗑 Deleted: common_voice_en_41633128.npy\n",
            "🗑 Deleted: common_voice_en_41881685.npy\n",
            "🗑 Deleted: common_voice_en_41503591.npy\n",
            "🗑 Deleted: common_voice_en_41693119.npy\n",
            "🗑 Deleted: common_voice_en_41680077.npy\n",
            "🗑 Deleted: common_voice_en_41526838.npy\n",
            "🗑 Deleted: common_voice_en_41816931.npy\n",
            "🗑 Deleted: common_voice_en_41678018.npy\n",
            "🗑 Deleted: common_voice_en_41586424.npy\n",
            "✅ Cleanup complete! Only processed files remain.\n"
          ]
        }
      ]
    },
    {
      "cell_type": "code",
      "source": [
        "print(os.listdir(\"data/american/mfcc_features/\"))"
      ],
      "metadata": {
        "colab": {
          "base_uri": "https://localhost:8080/"
        },
        "id": "3A3-PLtKLGm7",
        "outputId": "e7e5097f-92d5-4162-b99f-b1d0bec87a09"
      },
      "execution_count": null,
      "outputs": [
        {
          "output_type": "stream",
          "name": "stdout",
          "text": [
            "['processed_common_voice_en_41881685.npy', 'processed_common_voice_en_41633128.npy', 'processed_common_voice_en_41586424.npy', 'processed_common_voice_en_41678018.npy', 'processed_common_voice_en_41503591.npy', 'processed_common_voice_en_41680077.npy', 'processed_common_voice_en_41816931.npy', 'processed_common_voice_en_41526838.npy', 'processed_common_voice_en_41693119.npy', 'processed_common_voice_en_41823983.npy']\n"
          ]
        }
      ]
    }
  ]
}