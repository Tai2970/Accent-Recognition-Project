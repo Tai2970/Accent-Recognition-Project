{
  "nbformat": 4,
  "nbformat_minor": 0,
  "metadata": {
    "colab": {
      "provenance": []
    },
    "kernelspec": {
      "name": "python3",
      "display_name": "Python 3"
    },
    "language_info": {
      "name": "python"
    }
  },
  "cells": [
    {
      "cell_type": "code",
      "execution_count": null,
      "metadata": {
        "id": "pxO-r3khPn7O"
      },
      "outputs": [],
      "source": [
        "!pip install librosa numpy pandas scikit-learn matplotlib tensorflow torch torchaudio"
      ]
    },
    {
      "cell_type": "code",
      "source": [
        "import librosa\n",
        "import librosa.display\n",
        "import matplotlib.pyplot as plt\n",
        "import numpy as np\n",
        "\n",
        "AUDIO_FILE_URL = \"https://raw.githubusercontent.com/Tai2970/Accent-Recognition-Project/main/path/to/audiofile.wav\"\n",
        "LOCAL_FILENAME = \"audiofile.wav\"\n",
        "\n",
        "!wget {AUDIO_FILE_URL} -O {LOCAL_FILENAME}\n",
        "\n",
        "# load the audio file\n",
        "y, sr = librosa.load(LOCAL_FILENAME, sr=None)  # sr=None keeps the original sample rate\n",
        "\n",
        "# print basic audio properties\n",
        "duration = librosa.get_duration(y=y, sr=sr)\n",
        "print(f\"Sample Rate: {sr}\")\n",
        "print(f\"Duration: {duration:.2f} seconds\")\n",
        "\n",
        "# plot the waveform\n",
        "plt.figure(figsize=(12, 4))\n",
        "librosa.display.waveplot(y, sr=sr)\n",
        "plt.title(\"Waveform of the Loaded Audio\")\n",
        "plt.xlabel(\"Time\")\n",
        "plt.ylabel(\"Amplitude\")\n",
        "plt.show()\n"
      ],
      "metadata": {
        "id": "f2vjq11pP8cL"
      },
      "execution_count": null,
      "outputs": []
    }
  ]
}