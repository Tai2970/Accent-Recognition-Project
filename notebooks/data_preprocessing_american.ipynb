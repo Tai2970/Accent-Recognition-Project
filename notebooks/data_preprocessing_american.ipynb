{
  "nbformat": 4,
  "nbformat_minor": 0,
  "metadata": {
    "colab": {
      "provenance": []
    },
    "kernelspec": {
      "name": "python3",
      "display_name": "Python 3"
    },
    "language_info": {
      "name": "python"
    }
  },
  "cells": [
    {
      "cell_type": "code",
      "execution_count": 1,
      "metadata": {
        "colab": {
          "base_uri": "https://localhost:8080/"
        },
        "id": "RGa8ZgOmGnsT",
        "outputId": "78848237-14bd-4337-af67-5253024d016f"
      },
      "outputs": [
        {
          "output_type": "stream",
          "name": "stdout",
          "text": [
            "Cloning into 'Accent-Recognition-Project'...\n",
            "remote: Enumerating objects: 370, done.\u001b[K\n",
            "remote: Counting objects: 100% (84/84), done.\u001b[K\n",
            "remote: Compressing objects: 100% (74/74), done.\u001b[K\n",
            "remote: Total 370 (delta 57), reused 10 (delta 10), pack-reused 286 (from 3)\u001b[K\n",
            "Receiving objects: 100% (370/370), 3.81 MiB | 8.10 MiB/s, done.\n",
            "Resolving deltas: 100% (170/170), done.\n",
            "/content/Accent-Recognition-Project\n"
          ]
        }
      ],
      "source": [
        "!git clone https://github.com/Tai2970/Accent-Recognition-Project.git\n",
        "%cd Accent-Recognition-Project"
      ]
    },
    {
      "cell_type": "code",
      "source": [
        "import os\n",
        "print(os.listdir(\"data/american/\"))"
      ],
      "metadata": {
        "colab": {
          "base_uri": "https://localhost:8080/"
        },
        "id": "8dA0fY0eGoq4",
        "outputId": "4d376d28-25fd-43cc-e9a8-eea068e4c84e"
      },
      "execution_count": 2,
      "outputs": [
        {
          "output_type": "stream",
          "name": "stdout",
          "text": [
            "['common_voice_en_41503591.wav', 'common_voice_en_41816931.wav', 'common_voice_en_41823983.wav', 'common_voice_en_41526838.wav', 'common_voice_en_41680077.wav', 'common_voice_en_41693119.wav', 'common_voice_en_41678018.wav', 'README.md', 'common_voice_en_41633128.wav', 'common_voice_en_41586424.wav', 'common_voice_en_41881685.wav']\n"
          ]
        }
      ]
    },
    {
      "cell_type": "code",
      "source": [
        "import librosa\n",
        "import soundfile as sf\n",
        "\n",
        "# Define file path\n",
        "file_path = \"data/american/common_voice_en_41633128.wav\"\n",
        "\n",
        "# Load the audio\n",
        "y, sr = librosa.load(file_path, sr=None)  # Keep original sample rate\n",
        "\n",
        "# Convert to 16kHz & Mono\n",
        "target_sample_rate = 16000\n",
        "y_resampled = librosa.resample(y, orig_sr=sr, target_sr=target_sample_rate)\n",
        "\n",
        "# Save the converted file\n",
        "sf.write(\"data/american/processed_common_voice_en_41633128.wav\", y_resampled, target_sample_rate)\n",
        "\n",
        "print(\"✅ Audio converted to 16kHz and saved successfully!\")"
      ],
      "metadata": {
        "colab": {
          "base_uri": "https://localhost:8080/"
        },
        "id": "ZymgEUkUGsU1",
        "outputId": "b0c2b136-d295-4640-b9ce-0998384899ce"
      },
      "execution_count": 3,
      "outputs": [
        {
          "output_type": "stream",
          "name": "stdout",
          "text": [
            "✅ Audio converted to 16kHz and saved successfully!\n"
          ]
        }
      ]
    },
    {
      "cell_type": "code",
      "source": [
        "import librosa\n",
        "import soundfile as sf\n",
        "import os\n",
        "\n",
        "# Define paths\n",
        "input_folder = \"data/american/\"\n",
        "output_folder = \"data/american/processed/\"\n",
        "\n",
        "# Create output folder if it doesn't exist\n",
        "os.makedirs(output_folder, exist_ok=True)\n",
        "\n",
        "# Target sample rate\n",
        "target_sample_rate = 16000\n",
        "\n",
        "# Process all .wav files\n",
        "for filename in os.listdir(input_folder):\n",
        "    if filename.endswith(\".wav\") and not filename.startswith(\"processed_\"):  # Skip processed files\n",
        "        file_path = os.path.join(input_folder, filename)\n",
        "\n",
        "        # Load the audio\n",
        "        y, sr = librosa.load(file_path, sr=None)  # Keep original sample rate\n",
        "\n",
        "        # Convert to 16kHz\n",
        "        y_resampled = librosa.resample(y, orig_sr=sr, target_sr=target_sample_rate)\n",
        "\n",
        "        # Save the converted file\n",
        "        output_file_path = os.path.join(output_folder, f\"processed_{filename}\")  # Add \"processed_\" to filename\n",
        "        sf.write(output_file_path, y_resampled, target_sample_rate)\n",
        "\n",
        "        print(f\"✅ Processed: {filename}\")\n",
        "\n",
        "print(\"🎉 All files have been converted to 16kHz and saved in 'processed/' folder!\")"
      ],
      "metadata": {
        "colab": {
          "base_uri": "https://localhost:8080/"
        },
        "id": "0TxBzwgsGuq2",
        "outputId": "b3a3d434-6ed0-4d9c-92a1-b7bb519a9635"
      },
      "execution_count": 5,
      "outputs": [
        {
          "output_type": "stream",
          "name": "stdout",
          "text": [
            "✅ Processed: common_voice_en_41503591.wav\n",
            "✅ Processed: common_voice_en_41816931.wav\n",
            "✅ Processed: common_voice_en_41823983.wav\n",
            "✅ Processed: common_voice_en_41526838.wav\n",
            "✅ Processed: common_voice_en_41680077.wav\n",
            "✅ Processed: common_voice_en_41693119.wav\n",
            "✅ Processed: common_voice_en_41678018.wav\n",
            "✅ Processed: common_voice_en_41633128.wav\n",
            "✅ Processed: common_voice_en_41586424.wav\n",
            "✅ Processed: common_voice_en_41881685.wav\n",
            "🎉 All files have been converted to 16kHz and saved in 'processed/' folder!\n"
          ]
        }
      ]
    },
    {
      "cell_type": "code",
      "source": [
        "import os\n",
        "print(os.listdir(\"data/american/processed/\"))"
      ],
      "metadata": {
        "colab": {
          "base_uri": "https://localhost:8080/"
        },
        "id": "vDTdLJb9HD_f",
        "outputId": "e5e30f3f-af83-421b-c417-9637e36bcefc"
      },
      "execution_count": 6,
      "outputs": [
        {
          "output_type": "stream",
          "name": "stdout",
          "text": [
            "['common_voice_en_41503591.wav', 'common_voice_en_41816931.wav', 'processed_common_voice_en_41816931.wav', 'processed_common_voice_en_41881685.wav', 'common_voice_en_41823983.wav', 'common_voice_en_41526838.wav', 'processed_common_voice_en_41633128.wav', 'common_voice_en_41680077.wav', 'common_voice_en_41693119.wav', 'common_voice_en_41678018.wav', 'processed_common_voice_en_41678018.wav', 'processed_common_voice_en_41526838.wav', 'processed_common_voice_en_41823983.wav', 'common_voice_en_41633128.wav', 'processed_common_voice_en_41503591.wav', 'processed_common_voice_en_41586424.wav', 'processed_common_voice_en_41693119.wav', 'common_voice_en_41586424.wav', 'common_voice_en_41881685.wav', 'processed_common_voice_en_41680077.wav']\n"
          ]
        }
      ]
    },
    {
      "cell_type": "code",
      "source": [],
      "metadata": {
        "id": "D2erOi9_Hot4"
      },
      "execution_count": null,
      "outputs": []
    }
  ]
}