{
  "nbformat": 4,
  "nbformat_minor": 0,
  "metadata": {
    "colab": {
      "provenance": [],
      "authorship_tag": "ABX9TyMicTpQkqvOPV2wy/TOMcpq",
      "include_colab_link": true
    },
    "kernelspec": {
      "name": "python3",
      "display_name": "Python 3"
    },
    "language_info": {
      "name": "python"
    }
  },
  "cells": [
    {
      "cell_type": "markdown",
      "metadata": {
        "id": "view-in-github",
        "colab_type": "text"
      },
      "source": [
        "<a href=\"https://colab.research.google.com/github/Tai2970/Accent-Recognition-Project/blob/main/notebooks/british.ipynb\" target=\"_parent\"><img src=\"https://colab.research.google.com/assets/colab-badge.svg\" alt=\"Open In Colab\"/></a>"
      ]
    },
    {
      "cell_type": "code",
      "execution_count": null,
      "metadata": {
        "colab": {
          "base_uri": "https://localhost:8080/"
        },
        "id": "BjXfeGAQwBWV",
        "outputId": "c5aa5458-54fc-4651-fd81-982fbd2ca3c4"
      },
      "outputs": [
        {
          "output_type": "stream",
          "name": "stdout",
          "text": [
            "Cloning into 'Accent-Recognition-Project'...\n",
            "remote: Enumerating objects: 672, done.\u001b[K\n",
            "remote: Counting objects: 100% (209/209), done.\u001b[K\n",
            "remote: Compressing objects: 100% (173/173), done.\u001b[K\n",
            "remote: Total 672 (delta 155), reused 36 (delta 36), pack-reused 463 (from 1)\u001b[K\n",
            "Receiving objects: 100% (672/672), 19.77 MiB | 20.75 MiB/s, done.\n",
            "Resolving deltas: 100% (315/315), done.\n",
            "/content/Accent-Recognition-Project\n"
          ]
        }
      ],
      "source": [
        "!git clone https://github.com/Tai2970/Accent-Recognition-Project.git\n",
        "%cd Accent-Recognition-Project"
      ]
    },
    {
      "cell_type": "code",
      "source": [
        "\n",
        "import os\n",
        "print(os.listdir(\"data/british/\"))"
      ],
      "metadata": {
        "colab": {
          "base_uri": "https://localhost:8080/"
        },
        "id": "AH-YViGbwV0E",
        "outputId": "74f489f3-31df-4615-d599-70687b124ee1"
      },
      "execution_count": null,
      "outputs": [
        {
          "output_type": "stream",
          "name": "stdout",
          "text": [
            "['common_voice_en_41517336.wav', 'common_voice_en_41659267.wav', 'common_voice_en_41474829.wav', 'common_voice_en_41587501.wav', 'common_voice_en_41469700.wav', 'common_voice_en_41795709.wav', 'README.md', 'common_voice_en_41654965.wav', 'common_voice_en_41517337.wav', 'common_voice_en_41474836.wav', 'common_voice_en_41474838.wav']\n"
          ]
        }
      ]
    },
    {
      "cell_type": "code",
      "source": [
        "\n",
        "import librosa\n",
        "import soundfile as sf\n",
        "import os\n",
        "\n",
        "# Define paths\n",
        "input_folder = \"data/british/\"\n",
        "output_folder = \"data/british/processed/\"\n",
        "\n",
        "# Create output folder if it doesn't exist\n",
        "os.makedirs(output_folder, exist_ok=True)\n",
        "\n",
        "# Target sample rate\n",
        "target_sample_rate = 16000\n",
        "\n",
        "# Process all .wav files\n",
        "for filename in os.listdir(input_folder):\n",
        "    if filename.endswith(\".wav\") and not filename.startswith(\"processed_\"):  # Skip processed files\n",
        "        file_path = os.path.join(input_folder, filename)\n",
        "\n",
        "        # Load the audio\n",
        "        y, sr = librosa.load(file_path, sr=None)  # Keep original sample rate\n",
        "\n",
        "        # Convert to 16kHz\n",
        "        y_resampled = librosa.resample(y, orig_sr=sr, target_sr=target_sample_rate)\n",
        "\n",
        "        # Save the converted file\n",
        "        output_file_path = os.path.join(output_folder, f\"processed_{filename}\")  # Add \"processed_\" to filename\n",
        "        sf.write(output_file_path, y_resampled, target_sample_rate)\n",
        "\n",
        "        print(f\"Processed: {filename}\")\n",
        "\n",
        "print(\"🎉 All files have been converted to 16kHz and saved in 'processed/' folder!\")"
      ],
      "metadata": {
        "colab": {
          "base_uri": "https://localhost:8080/"
        },
        "id": "0zz7c8OLwduS",
        "outputId": "ebacd3c8-cead-4ab6-eb98-cc178ecb38cf"
      },
      "execution_count": 1,
      "outputs": [
        {
          "output_type": "stream",
          "name": "stdout",
          "text": [
            "🎉 All files have been converted to 16kHz and saved in 'processed/' folder!\n"
          ]
        }
      ]
    },
    {
      "cell_type": "code",
      "source": [
        "import os\n",
        "print(os.listdir(\"data/british/processed/\"))"
      ],
      "metadata": {
        "id": "aSX7Hypyx3yX",
        "outputId": "c1c30bad-ec1d-43e0-f1f4-06ada8bcfdbc",
        "colab": {
          "base_uri": "https://localhost:8080/"
        }
      },
      "execution_count": 2,
      "outputs": [
        {
          "output_type": "stream",
          "name": "stdout",
          "text": [
            "[]\n"
          ]
        }
      ]
    },
    {
      "cell_type": "code",
      "source": [],
      "metadata": {
        "id": "em9pwlix2gJv"
      },
      "execution_count": null,
      "outputs": []
    }
  ]
}